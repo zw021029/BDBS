{
 "cells": [
  {
   "cell_type": "markdown",
   "id": "62be116c",
   "metadata": {},
   "source": [
    "## Numpy 数组 \n",
    "- 基础\n",
    " - 导入\n",
    " - 创建\n",
    " - 查询数组类型\n",
    " - 数组计算（加减乘除）\n",
    " - 查询特性\n",
    " - 数组转换\n",
    " - 数组复制\n",
    "- 切片和索引\n",
    " - 数值查询\n",
    " - bool查询\n",
    "- 数值运算\n",
    " - 加\n",
    " - 乘\n",
    " - 统计\n",
    " - 矩阵乘法\n",
    "- 功能模块\n",
    " - 排序操作\n",
    " - 形状操作\n",
    " - 数组拼接\n",
    " - 数组函数\n",
    " - 随机模块\n",
    " - 文件写入"
   ]
  },
  {
   "cell_type": "markdown",
   "id": "e2b007bc",
   "metadata": {},
   "source": [
    "### 1 基础 "
   ]
  },
  {
   "cell_type": "code",
   "execution_count": 197,
   "id": "18236206",
   "metadata": {},
   "outputs": [],
   "source": [
    "#导入\n",
    "import numpy as np"
   ]
  },
  {
   "cell_type": "code",
   "execution_count": 198,
   "id": "793284d8",
   "metadata": {},
   "outputs": [
    {
     "name": "stdout",
     "output_type": "stream",
     "text": [
      "-----创建-----\n",
      "[1 2 3 4 5]\n",
      "[1. 2. 3. 4. 5.]\n",
      "[1 2 3 4 5]\n"
     ]
    }
   ],
   "source": [
    "#创建\n",
    "print(\"-----创建-----\")\n",
    "array = np.array([1,2,3,4,5])\n",
    "array_float = np.array([1,2,3,4,5], dtype=np.float32)\n",
    "array_str = np.array([1,2,3,4,5], dtype=object)\n",
    "print(array)\n",
    "print(array_float)\n",
    "print(array_str)"
   ]
  },
  {
   "cell_type": "code",
   "execution_count": 199,
   "id": "13db0b4e",
   "metadata": {},
   "outputs": [
    {
     "name": "stdout",
     "output_type": "stream",
     "text": [
      "-----查询数组类型-----\n",
      "<class 'numpy.ndarray'>\n"
     ]
    }
   ],
   "source": [
    "#查询数组类型\n",
    "print(\"-----查询数组类型-----\")\n",
    "print(type(array))"
   ]
  },
  {
   "cell_type": "code",
   "execution_count": 200,
   "id": "3806238f",
   "metadata": {},
   "outputs": [
    {
     "name": "stdout",
     "output_type": "stream",
     "text": [
      "-----数组计算(加减乘除)-----\n",
      "[2 3 4 5 6]\n",
      "[ 3  5  7  9 11]\n",
      "[0 1 2 3 4]\n",
      "[-1 -1 -1 -1 -1]\n",
      "[ 2  6 12 20 30]\n",
      "[[1 2 3 4 5]\n",
      " [2 3 4 5 6]\n",
      " [3 4 5 6 7]\n",
      " [4 5 6 7 8]\n",
      " [5 6 7 8 9]]\n",
      "[[ 1  4  9 16 25]\n",
      " [ 2  6 12 20 30]\n",
      " [ 3  8 15 24 35]\n",
      " [ 4 10 18 28 40]\n",
      " [ 5 12 21 32 45]]\n",
      "[[1]\n",
      " [2]\n",
      " [3]\n",
      " [4]\n",
      " [5]]\n",
      "[[ 1  2  3  4  5]\n",
      " [ 2  4  6  8 10]\n",
      " [ 3  6  9 12 15]\n",
      " [ 4  8 12 16 20]\n",
      " [ 5 10 15 20 25]]\n"
     ]
    }
   ],
   "source": [
    "#数组计算(加减乘除)\n",
    "print(\"-----数组计算(加减乘除)-----\")\n",
    "array2 = array + 1\n",
    "array3 = array + array2\n",
    "array4 = array - 1\n",
    "array5 = array - array2\n",
    "array6 = array * array2\n",
    "array7 = np.array([[1,2,3,4,5],[2,3,4,5,6],[3,4,5,6,7],[4,5,6,7,8],[5,6,7,8,9]])\n",
    "array8 = array7 * array\n",
    "array9 = np.array([[1],[2],[3],[4],[5]])\n",
    "array10 = array9 * array\n",
    "print(array2)\n",
    "print(array3)\n",
    "print(array4)\n",
    "print(array5)\n",
    "print(array6)\n",
    "print(array7)\n",
    "print(array8)\n",
    "print(array9)\n",
    "print(array10) # 注意乘法规律"
   ]
  },
  {
   "cell_type": "code",
   "execution_count": 201,
   "id": "9f79fbc0",
   "metadata": {},
   "outputs": [
    {
     "name": "stdout",
     "output_type": "stream",
     "text": [
      "-----查询特性-----\n",
      "(5,)\n",
      "(5,)\n",
      "(5,)\n",
      "(5,)\n",
      "(5,)\n",
      "(5,)\n",
      "(5, 5)\n",
      "(5, 5)\n",
      "(5, 1)\n",
      "(5, 5)\n",
      "['1' '2' '3' '4' '5']\n",
      "int64\n",
      "float32\n",
      "object\n",
      "5\n",
      "1\n"
     ]
    }
   ],
   "source": [
    "#查询特性\n",
    "print(\"-----查询特性-----\")\n",
    "print(array.shape)\n",
    "print(array2.shape)\n",
    "print(array3.shape)\n",
    "print(array4.shape)\n",
    "print(array5.shape)\n",
    "print(array6.shape)\n",
    "print(array7.shape)\n",
    "print(array8.shape)\n",
    "print(array9.shape)\n",
    "print(array10.shape)\n",
    "array11 = np.array([1,2,3,4,'5'])\n",
    "print(array11) # 注意会向下兼容 int-float-str\n",
    "print(array.dtype)\n",
    "print(array_float.dtype)\n",
    "print(array_str.dtype)\n",
    "print(array.size)\n",
    "print(array.ndim)"
   ]
  },
  {
   "cell_type": "code",
   "execution_count": 202,
   "id": "dd69d393",
   "metadata": {},
   "outputs": [
    {
     "name": "stdout",
     "output_type": "stream",
     "text": [
      "-----数组转换-----\n",
      "[1. 2. 3. 4. 5.]\n",
      "[1 2 3 4 5]\n"
     ]
    }
   ],
   "source": [
    "#数组转换\n",
    "print(\"-----数组转换-----\")\n",
    "array_float2 = np.asarray(array, dtype = np.float32)\n",
    "print(array_float2)\n",
    "array_str2 = np.asarray(array, dtype = object)\n",
    "print(array_str2)"
   ]
  },
  {
   "cell_type": "code",
   "execution_count": 203,
   "id": "4d1175c0",
   "metadata": {},
   "outputs": [
    {
     "name": "stdout",
     "output_type": "stream",
     "text": [
      "-----数组复制-----\n",
      "[[100   2   3   4   5]]\n",
      "[[100   2   3   4   5]]\n",
      "[[1 2 3 4 5]]\n",
      "[[100   2   3   4   5]]\n"
     ]
    }
   ],
   "source": [
    "#数组复制\n",
    "print(\"-----数组复制-----\")\n",
    "array_origin = np.array([[1,2,3,4,5]])\n",
    "array_new = array_origin\n",
    "array_new[0,0] = 100\n",
    "print(array_origin)\n",
    "print(array_new)\n",
    "\n",
    "array_origin2 = np.array([[1,2,3,4,5]])\n",
    "array_new2 = array_origin2.copy()\n",
    "array_new2[0,0] = 100\n",
    "print(array_origin2)\n",
    "print(array_new2)"
   ]
  },
  {
   "cell_type": "markdown",
   "id": "fd784334",
   "metadata": {},
   "source": [
    "### 2 切片和索引 "
   ]
  },
  {
   "cell_type": "code",
   "execution_count": 204,
   "id": "fc633ac4",
   "metadata": {},
   "outputs": [
    {
     "name": "stdout",
     "output_type": "stream",
     "text": [
      "-----数值查询-----\n",
      "[2 3]\n",
      "[3 4 5]\n",
      "[[ 1  2  3  4  5]\n",
      " [ 2 10  4  5  6]\n",
      " [ 3  4  5  6  7]\n",
      " [ 4  5  6  7  8]\n",
      " [ 5  6  7  8  9]]\n",
      "[ 2 10  4  5  6]\n",
      "[3 4 5 6 7]\n",
      "[[4 5]\n",
      " [5 6]]\n",
      "-----bool查询-----\n",
      "[20 50 80 90]\n",
      "[60 70 80 90]\n",
      "[ 0 10 20 30 40]\n",
      "[False False  True False False]\n",
      "[ True  True  True  True  True]\n",
      "[ True  True  True  True  True]\n"
     ]
    }
   ],
   "source": [
    "# 数值查询\n",
    "print(\"-----数值查询-----\")\n",
    "tang_array = np.array([1,2,3,4,5])\n",
    "print(tang_array[1:3]) # 左闭右开\n",
    "print(tang_array[-3:]) \n",
    "tang_array2 = np.array([[1,2,3,4,5],[2,3,4,5,6],[3,4,5,6,7],[4,5,6,7,8],[5,6,7,8,9]])\n",
    "tang_array2[1,1] = 10\n",
    "print(tang_array2)\n",
    "print(tang_array2[1]) # 取第二行\n",
    "print(tang_array2[:,2]) # 取第三列\n",
    "print(tang_array2[1:3, 2:4]) # 取特定行列，左闭右开\n",
    "\n",
    "# bool查询\n",
    "print(\"-----bool查询-----\")\n",
    "bool_array = np.arange(0,100,10)\n",
    "mask = np.array([0,0,1,0,0,1,0,0,1,1], dtype = bool) # 方法一\n",
    "print(bool_array[mask]) \n",
    "mask2 = bool_array > 50  # 方法二\n",
    "print(bool_array[mask2])\n",
    "mask3 = np.where(bool_array<50)  # 方法三\n",
    "print(bool_array[mask3])\n",
    "x = np.array([1,2,3,4,5])\n",
    "y = np.array([5,4,3,2,1])\n",
    "print(x==y)\n",
    "print(np.logical_and(x,y))\n",
    "print(np.logical_or(x,y))\n"
   ]
  },
  {
   "cell_type": "markdown",
   "id": "3dc4016c",
   "metadata": {},
   "source": [
    "### 3 数值运算 "
   ]
  },
  {
   "cell_type": "code",
   "execution_count": 205,
   "id": "431f3b5e",
   "metadata": {},
   "outputs": [
    {
     "name": "stdout",
     "output_type": "stream",
     "text": [
      "-----数值运算-----\n",
      "-----加-----\n",
      "165\n",
      "[21 27 33 39 45]\n",
      "[15 20 25 30 35 40]\n"
     ]
    }
   ],
   "source": [
    "print(\"-----数值运算-----\")\n",
    "print(\"-----加-----\")\n",
    "tang_array = np.array([[1,2,3,4,5],[2,3,4,5,6],[3,4,5,6,7],[4,5,6,7,8],[5,6,7,8,9],[6,7,8,9,10]])\n",
    "print(np.sum(tang_array))\n",
    "print(np.sum(tang_array, axis=0))\n",
    "print(np.sum(tang_array, axis=1))"
   ]
  },
  {
   "cell_type": "code",
   "execution_count": 206,
   "id": "ca533f87",
   "metadata": {},
   "outputs": [
    {
     "name": "stdout",
     "output_type": "stream",
     "text": [
      "-----乘-----\n",
      "4903375104664141824\n",
      "[   720   5040  20160  60480 151200]\n",
      "[  120   720  2520  6720 15120 30240]\n"
     ]
    }
   ],
   "source": [
    "print(\"-----乘-----\")\n",
    "print(tang_array.prod())\n",
    "print(tang_array.prod(axis=0))\n",
    "print(tang_array.prod(axis=1))"
   ]
  },
  {
   "cell_type": "code",
   "execution_count": 207,
   "id": "e397e4fc",
   "metadata": {},
   "outputs": [
    {
     "name": "stdout",
     "output_type": "stream",
     "text": [
      "-----统计-----\n",
      "1\n",
      "[1 2 3 4 5]\n",
      "[1 2 3 4 5 6]\n",
      "10\n",
      "[ 6  7  8  9 10]\n",
      "[ 5  6  7  8  9 10]\n",
      "5.5\n",
      "[3.5 4.5 5.5 6.5 7.5]\n",
      "[3. 4. 5. 6. 7. 8.]\n",
      "2.217355782608345\n",
      "[1.71 1.71 1.71 1.71 1.71]\n",
      "[1.41 1.41 1.41 1.41 1.41 1.41]\n",
      "4.916666666666667\n",
      "[2.92 2.92 2.92 2.92 2.92]\n",
      "[2. 2. 2. 2. 2. 2.]\n",
      "[3. 3. 3. 3. 3.]\n",
      "[2.9 2.9 2.9 2.9 2.9]\n",
      "[2.92 2.92 2.92 2.92 2.92]\n"
     ]
    }
   ],
   "source": [
    "print(\"-----统计-----\")\n",
    "print(tang_array.min())\n",
    "print(tang_array.min(axis=0))\n",
    "print(tang_array.min(axis=1))\n",
    "print(tang_array.max())\n",
    "print(tang_array.max(axis=0))\n",
    "print(tang_array.max(axis=1))\n",
    "print(tang_array.mean())\n",
    "print(tang_array.mean(axis=0))\n",
    "print(tang_array.mean(axis=1))\n",
    "print(tang_array.std())\n",
    "print(tang_array.std(axis=0))\n",
    "print(tang_array.std(axis=1))\n",
    "print(tang_array.var())\n",
    "print(tang_array.var(axis=0))\n",
    "print(tang_array.var(axis=1))\n",
    "print(tang_array.var(axis=0).round())\n",
    "print(tang_array.var(axis=0).round(decimals=1))\n",
    "print(tang_array.var(axis=0).round(decimals=2))"
   ]
  },
  {
   "cell_type": "code",
   "execution_count": 208,
   "id": "7ff4fcd1",
   "metadata": {},
   "outputs": [
    {
     "name": "stdout",
     "output_type": "stream",
     "text": [
      "-----矩阵乘法-----\n",
      "[1 2]\n",
      "[4 8]\n",
      "[ 4 16]\n",
      "20\n",
      "[[1]\n",
      " [2]]\n",
      "[[4 8]]\n",
      "[[ 4  8]\n",
      " [ 8 16]]\n",
      "[[1]\n",
      " [2]]\n",
      "[[4 8]]\n",
      "[[20]]\n"
     ]
    }
   ],
   "source": [
    "print(\"-----矩阵乘法-----\")\n",
    "x = np.array([1,2])\n",
    "y = np.array([4,8])\n",
    "z = np.multiply(x,y) #交叉相乘\n",
    "print(x)\n",
    "print(y)\n",
    "print(z)\n",
    "z1 = np.dot(x,y) #矩阵乘法\n",
    "print(z1) \n",
    "\n",
    "y1 = np.array([[4],[8]])\n",
    "x.shape = 2,1\n",
    "y1.shape = 1,2\n",
    "print(x)\n",
    "print(y1)\n",
    "z2 = np.dot(x,y1) #矩阵乘法\n",
    "print(z2)\n",
    "\n",
    "y2 = np.array([[4],[8]])\n",
    "x.shape = 2,1\n",
    "y2.shape = 1,2\n",
    "print(x)\n",
    "print(y2)\n",
    "z3 = np.dot(y2,x) #矩阵乘法\n",
    "print(z3) "
   ]
  },
  {
   "cell_type": "markdown",
   "id": "8d5cad4a",
   "metadata": {},
   "source": [
    "### 4 功能模块 "
   ]
  },
  {
   "cell_type": "code",
   "execution_count": 209,
   "id": "b3d76d7c",
   "metadata": {},
   "outputs": [
    {
     "name": "stdout",
     "output_type": "stream",
     "text": [
      "-----排序操作-----\n",
      "[[1.5 2.3 6.7]\n",
      " [3.4 9.1 2.4]]\n",
      "[[1.5 2.3 6.7]\n",
      " [2.4 3.4 9.1]]\n",
      "[[1.5 2.3 2.4]\n",
      " [3.4 9.1 6.7]]\n",
      "[[1.5 2.3 6.7]\n",
      " [2.4 3.4 9.1]]\n",
      "-----排序索引-----\n",
      "[[1.5 2.3 6.7]\n",
      " [3.4 9.1 2.4]]\n",
      "[[0 1 2]\n",
      " [2 0 1]]\n",
      "-----寻找排序-----\n",
      "[ 0.    1.11  2.22  3.33  4.44  5.56  6.67  7.78  8.89 10.  ]\n",
      "[3 5 8]\n",
      "-----指示排序-----\n",
      "[2 3 0 1]\n",
      "[[2 3 1]\n",
      " [2 4 0]\n",
      " [1 0 6]\n",
      " [1 7 0]]\n"
     ]
    }
   ],
   "source": [
    "#排序操作\n",
    "print(\"-----排序操作-----\")\n",
    "sort_array = np.array([[1.5, 2.3, 6.7],[3.4, 9.10, 2.4]])\n",
    "sort_a = np.sort(sort_array) #行排序\n",
    "sort_array = np.array([[1.5, 2.3, 6.7],[3.4, 9.10, 2.4]])\n",
    "sort_b = np.sort(sort_array, axis=0) #列排序\n",
    "sort_array = np.array([[1.5, 2.3, 6.7],[3.4, 9.10, 2.4]])\n",
    "sort_c = np.sort(sort_array, axis=1) #行排序\n",
    "print(sort_array)\n",
    "print(sort_a)\n",
    "print(sort_b)\n",
    "print(sort_c)\n",
    "\n",
    "print(\"-----排序索引-----\")\n",
    "sort_array = np.array([[1.5, 2.3, 6.7],[3.4, 9.10, 2.4]])\n",
    "sort_index = np.argsort(sort_array)  #原始索引的位置\n",
    "print(sort_array)\n",
    "print(sort_index)\n",
    "\n",
    "print(\"-----寻找排序-----\")\n",
    "join_array = np.linspace(0,10,10)\n",
    "values = np.array([2.5,5.5,8.5])\n",
    "where_index = np.searchsorted(join_array, values)  #原始索引的位置\n",
    "print(join_array)\n",
    "print(where_index)\n",
    "\n",
    "print(\"-----指示排序-----\")\n",
    "guide_array = np.array([[1,0,6],[1,7,0],[2,3,1],[2,4,0]])\n",
    "index = np.lexsort([-1*guide_array[:,0]]) #按照第一列的降序排列\n",
    "new_array = guide_array[index] \n",
    "print(index)\n",
    "print(new_array)"
   ]
  },
  {
   "cell_type": "code",
   "execution_count": 210,
   "id": "01d5b68d",
   "metadata": {},
   "outputs": [
    {
     "name": "stdout",
     "output_type": "stream",
     "text": [
      "-----形状操作-----\n",
      "[0 1 2 3 4 5 6 7 8 9]\n",
      "(10,)\n",
      "[[0 1]\n",
      " [2 3]\n",
      " [4 5]\n",
      " [6 7]\n",
      " [8 9]]\n",
      "(5, 2)\n",
      "[[0 1 2 3 4 5 6 7 8 9]]\n",
      "[0 1 2 3 4 5 6 7 8 9]\n",
      "[[0]\n",
      " [1]\n",
      " [2]\n",
      " [3]\n",
      " [4]\n",
      " [5]\n",
      " [6]\n",
      " [7]\n",
      " [8]\n",
      " [9]]\n"
     ]
    }
   ],
   "source": [
    "#形状操作\n",
    "print(\"-----形状操作-----\")\n",
    "shape_array = np.arange(10)\n",
    "print(shape_array)\n",
    "print(shape_array.shape)\n",
    "shape_array = np.arange(10)\n",
    "shape_array.shape = 5,2\n",
    "print(shape_array)\n",
    "print(shape_array.shape)\n",
    "shape_array = np.arange(10)\n",
    "shape_array = shape_array[np.newaxis,:] #增加新列\n",
    "print(shape_array)\n",
    "shape_array = shape_array.squeeze() #删除空列\n",
    "print(shape_array)\n",
    "shape_array = shape_array[np.newaxis,:]\n",
    "shape_array = shape_array.T #转秩 请注意 如果只用shape_array.T打印 则不改变原值\n",
    "print(shape_array)"
   ]
  },
  {
   "cell_type": "code",
   "execution_count": 211,
   "id": "fe8850a2",
   "metadata": {},
   "outputs": [
    {
     "name": "stdout",
     "output_type": "stream",
     "text": [
      "-----数组拼接-----\n",
      "[[ 1  2  3]\n",
      " [ 4  5  6]\n",
      " [ 7  8  9]\n",
      " [10 11 12]]\n",
      "[[ 1  2  3]\n",
      " [ 4  5  6]\n",
      " [ 7  8  9]\n",
      " [10 11 12]]\n",
      "[[ 1  2  3  7  8  9]\n",
      " [ 4  5  6 10 11 12]]\n",
      "[[[ 1  2  3]\n",
      "  [ 4  5  6]]\n",
      "\n",
      " [[ 7  8  9]\n",
      "  [10 11 12]]]\n",
      "[[ 1  2  3  7  8  9]\n",
      " [ 4  5  6 10 11 12]]\n",
      "[[ 1  2  3]\n",
      " [ 4  5  6]\n",
      " [ 7  8  9]\n",
      " [10 11 12]]\n",
      "[ 7  8  9 10 11 12]\n"
     ]
    }
   ],
   "source": [
    "#数组拼接\n",
    "print(\"-----数组拼接-----\")\n",
    "a = np.array([[1,2,3],[4,5,6]])\n",
    "b = np.array([[7,8,9],[10,11,12]])\n",
    "c = np.concatenate((a,b))\n",
    "print(c)\n",
    "c1 = np.concatenate((a,b), axis=0) #不变维度，纵向连接\n",
    "print(c1)\n",
    "c2 = np.concatenate((a,b), axis=1) #不变维度，横向连接\n",
    "print(c2)\n",
    "c3 = np.stack((a,b)) #新增维度\n",
    "print(c3) \n",
    "c4 = np.hstack((a,b)) #不变维度，纵向连接\n",
    "print(c4) \n",
    "c5 = np.vstack((a,b)) #不变维度，横向连接\n",
    "print(c5) \n",
    "b1 = b.flatten() #拉平\n",
    "print(b1) "
   ]
  },
  {
   "cell_type": "code",
   "execution_count": 212,
   "id": "0de6cb89",
   "metadata": {},
   "outputs": [
    {
     "name": "stdout",
     "output_type": "stream",
     "text": [
      "-----数组函数-----\n",
      "[ 2  4  6  8 10 12 14 16 18]\n",
      "[ 1.    1.78  3.16  5.62 10.  ]\n",
      "[0 1 2 3 4]\n",
      "[[0]\n",
      " [1]\n",
      " [2]\n",
      " [3]\n",
      " [4]]\n",
      "[0. 0. 0.]\n",
      "[[0. 0. 0.]\n",
      " [0. 0. 0.]\n",
      " [0. 0. 0.]]\n",
      "[1. 1. 1.]\n",
      "[[1. 1. 1.]\n",
      " [1. 1. 1.]\n",
      " [1. 1. 1.]]\n",
      "[[8. 8. 8.]\n",
      " [8. 8. 8.]\n",
      " [8. 8. 8.]]\n",
      "[1. 1. 1. 1. 1. 1.]\n",
      "None\n",
      "[0 0 0 0 0 0]\n",
      "[[1. 0. 0. 0. 0. 0.]\n",
      " [0. 1. 0. 0. 0. 0.]\n",
      " [0. 0. 1. 0. 0. 0.]\n",
      " [0. 0. 0. 1. 0. 0.]\n",
      " [0. 0. 0. 0. 1. 0.]\n",
      " [0. 0. 0. 0. 0. 1.]]\n"
     ]
    }
   ],
   "source": [
    "#数组函数\n",
    "print(\"-----数组函数-----\")\n",
    "z1 = np.arange(2,20,2)\n",
    "z2 = np.logspace(0,1,5)\n",
    "z3 = np.r_[0:5:1] #快速行\n",
    "z4 = np.c_[0:5:1] #快速列\n",
    "print(z1)\n",
    "print(z2)\n",
    "print(z3)\n",
    "print(z4)\n",
    "\n",
    "z5 = np.zeros(3)\n",
    "z6 = np.zeros((3,3))\n",
    "z7 = np.ones(3)\n",
    "z8 = np.ones((3,3))\n",
    "z9 = np.ones((3,3))*8\n",
    "print(z5)\n",
    "print(z6)\n",
    "print(z7)\n",
    "print(z8)\n",
    "print(z9)\n",
    "\n",
    "z10 = np.empty(6)\n",
    "z11 = z10.fill(1) #先空再填充\n",
    "print(z10)\n",
    "print(z11)\n",
    "\n",
    "exis_array = np.array([1,2,3,4,5,6])\n",
    "z12 = np.zeros_like(exis_array) #适合在大规模数据中，初始化\n",
    "print(z12)\n",
    "\n",
    "z13 = np.identity(6) #仅对角线\n",
    "print(z13)"
   ]
  },
  {
   "cell_type": "code",
   "execution_count": null,
   "id": "b2c46bde",
   "metadata": {},
   "outputs": [],
   "source": [
    "#随机模块\n",
    "print(\"-----随机模块-----\")\n",
    "r1 = np.random.rand()\n",
    "r2 = np.random.rand(3,2)\n",
    "r3 = np.random.randint(10,size=(3,2))\n",
    "r4 = np.random.randint(0,10,3)\n",
    "print(r1)\n",
    "print(r2)\n",
    "print(r3)\n",
    "print(r4)\n",
    "\n",
    "mu = 0\n",
    "sigma = 1\n",
    "r5 = np.random.normal(mu, sigma, 10) #均值为0 方差为1\n",
    "print(r5)\n",
    "\n",
    "np.set_printoptions(precision=2)\n",
    "r6 = np.random.normal(mu, sigma, 10) #均值为0 方差为1\n",
    "print(r6)\n",
    "\n",
    "r7 = np.arange(10)\n",
    "np.random.shuffle(r7) #原地操作 洗牌操作\n",
    "print(r7)\n",
    "\n",
    "np.random.seed(100)\n",
    "r8 = np.random.normal(mu, sigma, 10) #均值为0 方差为1\n",
    "print(r8)"
   ]
  },
  {
   "cell_type": "code",
   "execution_count": 192,
   "id": "c87c630b",
   "metadata": {},
   "outputs": [
    {
     "name": "stdout",
     "output_type": "stream",
     "text": [
      "Overwriting zuo.txt\n"
     ]
    }
   ],
   "source": [
    "%%writefile zuo.txt\n",
    "1 2 3 4 5\n",
    "2 3 4 5 6\n",
    "\n",
    "data= np.loadtxt('zuo.txt')"
   ]
  },
  {
   "cell_type": "code",
   "execution_count": 193,
   "id": "a2aa373c",
   "metadata": {},
   "outputs": [
    {
     "name": "stdout",
     "output_type": "stream",
     "text": [
      "Writing zuo2.txt\n"
     ]
    }
   ],
   "source": [
    "%%writefile zuo2.txt\n",
    "1,2,3,4,5\n",
    "2,3,4,5,6\n",
    "\n",
    "data2= np.loadtxt('zuo2.txt', delimiter=',')"
   ]
  },
  {
   "cell_type": "code",
   "execution_count": 194,
   "id": "714e7bca",
   "metadata": {},
   "outputs": [
    {
     "name": "stdout",
     "output_type": "stream",
     "text": [
      "Writing zuo3.txt\n"
     ]
    }
   ],
   "source": [
    "%%writefile zuo3.txt\n",
    "x,y,z,a,b\n",
    "1,2,3,4,5\n",
    "2,3,4,5,6\n",
    "\n",
    "data2= np.loadtxt('zuo3.txt', delimiter=',', skiprows=1)"
   ]
  },
  {
   "cell_type": "code",
   "execution_count": 195,
   "id": "b6a80b29",
   "metadata": {},
   "outputs": [
    {
     "data": {
      "text/plain": [
       "array([[1, 2, 3],\n",
       "       [4, 5, 6]])"
      ]
     },
     "execution_count": 195,
     "metadata": {},
     "output_type": "execute_result"
    }
   ],
   "source": [
    "zuo_array = np.array([[1,2,3],[4,5,6]])\n",
    "np.save('zuo_array.npy',zuo_array)\n",
    "np.load('zuo_array.npy')"
   ]
  },
  {
   "cell_type": "code",
   "execution_count": null,
   "id": "76af73c8",
   "metadata": {},
   "outputs": [],
   "source": []
  }
 ],
 "metadata": {
  "kernelspec": {
   "display_name": "pytorch",
   "language": "python",
   "name": "pytorch"
  },
  "language_info": {
   "codemirror_mode": {
    "name": "ipython",
    "version": 3
   },
   "file_extension": ".py",
   "mimetype": "text/x-python",
   "name": "python",
   "nbconvert_exporter": "python",
   "pygments_lexer": "ipython3",
   "version": "3.9.18"
  }
 },
 "nbformat": 4,
 "nbformat_minor": 5
}
